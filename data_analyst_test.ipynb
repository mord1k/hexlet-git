{
  "nbformat": 4,
  "nbformat_minor": 0,
  "metadata": {
    "colab": {
      "provenance": [],
      "authorship_tag": "ABX9TyMsnoydPmsMi78aN8GU3x1d",
      "include_colab_link": true
    },
    "kernelspec": {
      "name": "python3",
      "display_name": "Python 3"
    },
    "language_info": {
      "name": "python"
    }
  },
  "cells": [
    {
      "cell_type": "markdown",
      "metadata": {
        "id": "view-in-github",
        "colab_type": "text"
      },
      "source": [
        "<a href=\"https://colab.research.google.com/github/mord1k/hexlet-git/blob/main/data_analyst_test.ipynb\" target=\"_parent\"><img src=\"https://colab.research.google.com/assets/colab-badge.svg\" alt=\"Open In Colab\"/></a>"
      ]
    },
    {
      "cell_type": "markdown",
      "source": [
        "https://drive.google.com/file/d/1tn6EKuYQ9JSx9DQ1PAAqfgSWTuPHFY1N/view?usp=sharing"
      ],
      "metadata": {
        "id": "d_hh4PVVpoxJ"
      }
    },
    {
      "cell_type": "code",
      "source": [
        "! gdown --id 1tn6EKuYQ9JSx9DQ1PAAqfgSWTuPHFY1N"
      ],
      "metadata": {
        "colab": {
          "base_uri": "https://localhost:8080/"
        },
        "id": "VRleTsl_pqkv",
        "outputId": "8056d052-e705-4c94-afda-942c76f49b66"
      },
      "execution_count": 163,
      "outputs": [
        {
          "output_type": "stream",
          "name": "stdout",
          "text": [
            "/usr/local/lib/python3.10/dist-packages/gdown/cli.py:121: FutureWarning: Option `--id` was deprecated in version 4.3.1 and will be removed in 5.0. You don't need to pass it anymore to use a file ID.\n",
            "  warnings.warn(\n",
            "Downloading...\n",
            "From: https://drive.google.com/uc?id=1tn6EKuYQ9JSx9DQ1PAAqfgSWTuPHFY1N\n",
            "To: /content/df_testcase.csv\n",
            "100% 6.74M/6.74M [00:00<00:00, 78.3MB/s]\n"
          ]
        }
      ]
    },
    {
      "cell_type": "code",
      "source": [
        "import numpy as np\n",
        "import pandas as pd\n",
        "import matplotlib.pyplot as plt\n",
        "import seaborn as sns"
      ],
      "metadata": {
        "id": "gWNyurEh6TLy"
      },
      "execution_count": 164,
      "outputs": []
    },
    {
      "cell_type": "code",
      "source": [
        "df = pd.read_csv('/content/df_testcase.csv')"
      ],
      "metadata": {
        "id": "Q7U40TQ5p5DZ"
      },
      "execution_count": 165,
      "outputs": []
    },
    {
      "cell_type": "code",
      "source": [
        "df.info()"
      ],
      "metadata": {
        "colab": {
          "base_uri": "https://localhost:8080/"
        },
        "id": "Q8tC0rEoqF2I",
        "outputId": "b7db0b7e-ed1c-4763-f349-ef0965c8de87"
      },
      "execution_count": 166,
      "outputs": [
        {
          "output_type": "stream",
          "name": "stdout",
          "text": [
            "<class 'pandas.core.frame.DataFrame'>\n",
            "RangeIndex: 25839 entries, 0 to 25838\n",
            "Data columns (total 15 columns):\n",
            " #   Column      Non-Null Count  Dtype  \n",
            "---  ------      --------------  -----  \n",
            " 0   session_id  25839 non-null  object \n",
            " 1   event_date  25839 non-null  object \n",
            " 2   user_id     6356 non-null   float64\n",
            " 3   event_id_1  25839 non-null  object \n",
            " 4   event_id_2  25839 non-null  object \n",
            " 5   event_id_3  24466 non-null  object \n",
            " 6   event_id_4  21696 non-null  object \n",
            " 7   event_id_5  12111 non-null  object \n",
            " 8   event_id_6  16676 non-null  object \n",
            " 9   event_id_7  15658 non-null  object \n",
            " 10  event_id_8  15925 non-null  object \n",
            " 11  event_id_9  20111 non-null  object \n",
            " 12  value_0     25839 non-null  float64\n",
            " 13  value_1     25839 non-null  float64\n",
            " 14  value_2     25839 non-null  float64\n",
            "dtypes: float64(4), object(11)\n",
            "memory usage: 3.0+ MB\n"
          ]
        }
      ]
    },
    {
      "cell_type": "code",
      "source": [
        "df.head()"
      ],
      "metadata": {
        "colab": {
          "base_uri": "https://localhost:8080/",
          "height": 531
        },
        "id": "XnDgoOlXqL2Z",
        "outputId": "01891a26-9ca2-449b-899c-6f5ced54efb1"
      },
      "execution_count": 167,
      "outputs": [
        {
          "output_type": "execute_result",
          "data": {
            "text/plain": [
              "                             session_id           event_date   user_id  \\\n",
              "0  F9C68F64-55F8-4D11-8B7B-4DE660B34673  2023-04-16 03:02:28  251082.0   \n",
              "1  F9C68F64-55F8-4D11-8B7B-4DE660B34673  2023-04-16 03:06:57  251082.0   \n",
              "2  F9C68F64-55F8-4D11-8B7B-4DE660B34673  2023-04-16 03:06:57  251082.0   \n",
              "3  F9C68F64-55F8-4D11-8B7B-4DE660B34673  2023-04-16 03:10:48  251082.0   \n",
              "4  F9C68F64-55F8-4D11-8B7B-4DE660B34673  2023-04-16 03:10:48  251082.0   \n",
              "\n",
              "  event_id_1   event_id_2 event_id_3 event_id_4 event_id_5 event_id_6  \\\n",
              "0      level       251082        NaN        NaN        NaN        NaN   \n",
              "1     player    skin_main       1000       7000       8000       9000   \n",
              "2     player  skin_social       2000          0          0       4000   \n",
              "3     player    skin_main       1000       7000       8000       9000   \n",
              "4     player  skin_social       2000          0          0       4000   \n",
              "\n",
              "  event_id_7 event_id_8                                         event_id_9  \\\n",
              "0        NaN        NaN                                                NaN   \n",
              "1      10000        NaN  arn:aws:gamelift:eu-central-1::gamesession/fle...   \n",
              "2       6000        NaN  arn:aws:gamelift:eu-central-1::gamesession/fle...   \n",
              "3      10000        NaN  arn:aws:gamelift:eu-central-1::gamesession/fle...   \n",
              "4       6000        NaN  arn:aws:gamelift:eu-central-1::gamesession/fle...   \n",
              "\n",
              "   value_0  value_1  value_2  \n",
              "0    180.0      0.0      0.0  \n",
              "1      0.0      0.0      0.0  \n",
              "2      0.0      0.0      0.0  \n",
              "3      0.0      0.0      0.0  \n",
              "4      0.0      0.0      0.0  "
            ],
            "text/html": [
              "\n",
              "  <div id=\"df-1b1c3806-b9e4-4389-9780-54549ff77a25\">\n",
              "    <div class=\"colab-df-container\">\n",
              "      <div>\n",
              "<style scoped>\n",
              "    .dataframe tbody tr th:only-of-type {\n",
              "        vertical-align: middle;\n",
              "    }\n",
              "\n",
              "    .dataframe tbody tr th {\n",
              "        vertical-align: top;\n",
              "    }\n",
              "\n",
              "    .dataframe thead th {\n",
              "        text-align: right;\n",
              "    }\n",
              "</style>\n",
              "<table border=\"1\" class=\"dataframe\">\n",
              "  <thead>\n",
              "    <tr style=\"text-align: right;\">\n",
              "      <th></th>\n",
              "      <th>session_id</th>\n",
              "      <th>event_date</th>\n",
              "      <th>user_id</th>\n",
              "      <th>event_id_1</th>\n",
              "      <th>event_id_2</th>\n",
              "      <th>event_id_3</th>\n",
              "      <th>event_id_4</th>\n",
              "      <th>event_id_5</th>\n",
              "      <th>event_id_6</th>\n",
              "      <th>event_id_7</th>\n",
              "      <th>event_id_8</th>\n",
              "      <th>event_id_9</th>\n",
              "      <th>value_0</th>\n",
              "      <th>value_1</th>\n",
              "      <th>value_2</th>\n",
              "    </tr>\n",
              "  </thead>\n",
              "  <tbody>\n",
              "    <tr>\n",
              "      <th>0</th>\n",
              "      <td>F9C68F64-55F8-4D11-8B7B-4DE660B34673</td>\n",
              "      <td>2023-04-16 03:02:28</td>\n",
              "      <td>251082.0</td>\n",
              "      <td>level</td>\n",
              "      <td>251082</td>\n",
              "      <td>NaN</td>\n",
              "      <td>NaN</td>\n",
              "      <td>NaN</td>\n",
              "      <td>NaN</td>\n",
              "      <td>NaN</td>\n",
              "      <td>NaN</td>\n",
              "      <td>NaN</td>\n",
              "      <td>180.0</td>\n",
              "      <td>0.0</td>\n",
              "      <td>0.0</td>\n",
              "    </tr>\n",
              "    <tr>\n",
              "      <th>1</th>\n",
              "      <td>F9C68F64-55F8-4D11-8B7B-4DE660B34673</td>\n",
              "      <td>2023-04-16 03:06:57</td>\n",
              "      <td>251082.0</td>\n",
              "      <td>player</td>\n",
              "      <td>skin_main</td>\n",
              "      <td>1000</td>\n",
              "      <td>7000</td>\n",
              "      <td>8000</td>\n",
              "      <td>9000</td>\n",
              "      <td>10000</td>\n",
              "      <td>NaN</td>\n",
              "      <td>arn:aws:gamelift:eu-central-1::gamesession/fle...</td>\n",
              "      <td>0.0</td>\n",
              "      <td>0.0</td>\n",
              "      <td>0.0</td>\n",
              "    </tr>\n",
              "    <tr>\n",
              "      <th>2</th>\n",
              "      <td>F9C68F64-55F8-4D11-8B7B-4DE660B34673</td>\n",
              "      <td>2023-04-16 03:06:57</td>\n",
              "      <td>251082.0</td>\n",
              "      <td>player</td>\n",
              "      <td>skin_social</td>\n",
              "      <td>2000</td>\n",
              "      <td>0</td>\n",
              "      <td>0</td>\n",
              "      <td>4000</td>\n",
              "      <td>6000</td>\n",
              "      <td>NaN</td>\n",
              "      <td>arn:aws:gamelift:eu-central-1::gamesession/fle...</td>\n",
              "      <td>0.0</td>\n",
              "      <td>0.0</td>\n",
              "      <td>0.0</td>\n",
              "    </tr>\n",
              "    <tr>\n",
              "      <th>3</th>\n",
              "      <td>F9C68F64-55F8-4D11-8B7B-4DE660B34673</td>\n",
              "      <td>2023-04-16 03:10:48</td>\n",
              "      <td>251082.0</td>\n",
              "      <td>player</td>\n",
              "      <td>skin_main</td>\n",
              "      <td>1000</td>\n",
              "      <td>7000</td>\n",
              "      <td>8000</td>\n",
              "      <td>9000</td>\n",
              "      <td>10000</td>\n",
              "      <td>NaN</td>\n",
              "      <td>arn:aws:gamelift:eu-central-1::gamesession/fle...</td>\n",
              "      <td>0.0</td>\n",
              "      <td>0.0</td>\n",
              "      <td>0.0</td>\n",
              "    </tr>\n",
              "    <tr>\n",
              "      <th>4</th>\n",
              "      <td>F9C68F64-55F8-4D11-8B7B-4DE660B34673</td>\n",
              "      <td>2023-04-16 03:10:48</td>\n",
              "      <td>251082.0</td>\n",
              "      <td>player</td>\n",
              "      <td>skin_social</td>\n",
              "      <td>2000</td>\n",
              "      <td>0</td>\n",
              "      <td>0</td>\n",
              "      <td>4000</td>\n",
              "      <td>6000</td>\n",
              "      <td>NaN</td>\n",
              "      <td>arn:aws:gamelift:eu-central-1::gamesession/fle...</td>\n",
              "      <td>0.0</td>\n",
              "      <td>0.0</td>\n",
              "      <td>0.0</td>\n",
              "    </tr>\n",
              "  </tbody>\n",
              "</table>\n",
              "</div>\n",
              "      <button class=\"colab-df-convert\" onclick=\"convertToInteractive('df-1b1c3806-b9e4-4389-9780-54549ff77a25')\"\n",
              "              title=\"Convert this dataframe to an interactive table.\"\n",
              "              style=\"display:none;\">\n",
              "        \n",
              "  <svg xmlns=\"http://www.w3.org/2000/svg\" height=\"24px\"viewBox=\"0 0 24 24\"\n",
              "       width=\"24px\">\n",
              "    <path d=\"M0 0h24v24H0V0z\" fill=\"none\"/>\n",
              "    <path d=\"M18.56 5.44l.94 2.06.94-2.06 2.06-.94-2.06-.94-.94-2.06-.94 2.06-2.06.94zm-11 1L8.5 8.5l.94-2.06 2.06-.94-2.06-.94L8.5 2.5l-.94 2.06-2.06.94zm10 10l.94 2.06.94-2.06 2.06-.94-2.06-.94-.94-2.06-.94 2.06-2.06.94z\"/><path d=\"M17.41 7.96l-1.37-1.37c-.4-.4-.92-.59-1.43-.59-.52 0-1.04.2-1.43.59L10.3 9.45l-7.72 7.72c-.78.78-.78 2.05 0 2.83L4 21.41c.39.39.9.59 1.41.59.51 0 1.02-.2 1.41-.59l7.78-7.78 2.81-2.81c.8-.78.8-2.07 0-2.86zM5.41 20L4 18.59l7.72-7.72 1.47 1.35L5.41 20z\"/>\n",
              "  </svg>\n",
              "      </button>\n",
              "      \n",
              "  <style>\n",
              "    .colab-df-container {\n",
              "      display:flex;\n",
              "      flex-wrap:wrap;\n",
              "      gap: 12px;\n",
              "    }\n",
              "\n",
              "    .colab-df-convert {\n",
              "      background-color: #E8F0FE;\n",
              "      border: none;\n",
              "      border-radius: 50%;\n",
              "      cursor: pointer;\n",
              "      display: none;\n",
              "      fill: #1967D2;\n",
              "      height: 32px;\n",
              "      padding: 0 0 0 0;\n",
              "      width: 32px;\n",
              "    }\n",
              "\n",
              "    .colab-df-convert:hover {\n",
              "      background-color: #E2EBFA;\n",
              "      box-shadow: 0px 1px 2px rgba(60, 64, 67, 0.3), 0px 1px 3px 1px rgba(60, 64, 67, 0.15);\n",
              "      fill: #174EA6;\n",
              "    }\n",
              "\n",
              "    [theme=dark] .colab-df-convert {\n",
              "      background-color: #3B4455;\n",
              "      fill: #D2E3FC;\n",
              "    }\n",
              "\n",
              "    [theme=dark] .colab-df-convert:hover {\n",
              "      background-color: #434B5C;\n",
              "      box-shadow: 0px 1px 3px 1px rgba(0, 0, 0, 0.15);\n",
              "      filter: drop-shadow(0px 1px 2px rgba(0, 0, 0, 0.3));\n",
              "      fill: #FFFFFF;\n",
              "    }\n",
              "  </style>\n",
              "\n",
              "      <script>\n",
              "        const buttonEl =\n",
              "          document.querySelector('#df-1b1c3806-b9e4-4389-9780-54549ff77a25 button.colab-df-convert');\n",
              "        buttonEl.style.display =\n",
              "          google.colab.kernel.accessAllowed ? 'block' : 'none';\n",
              "\n",
              "        async function convertToInteractive(key) {\n",
              "          const element = document.querySelector('#df-1b1c3806-b9e4-4389-9780-54549ff77a25');\n",
              "          const dataTable =\n",
              "            await google.colab.kernel.invokeFunction('convertToInteractive',\n",
              "                                                     [key], {});\n",
              "          if (!dataTable) return;\n",
              "\n",
              "          const docLinkHtml = 'Like what you see? Visit the ' +\n",
              "            '<a target=\"_blank\" href=https://colab.research.google.com/notebooks/data_table.ipynb>data table notebook</a>'\n",
              "            + ' to learn more about interactive tables.';\n",
              "          element.innerHTML = '';\n",
              "          dataTable['output_type'] = 'display_data';\n",
              "          await google.colab.output.renderOutput(dataTable, element);\n",
              "          const docLink = document.createElement('div');\n",
              "          docLink.innerHTML = docLinkHtml;\n",
              "          element.appendChild(docLink);\n",
              "        }\n",
              "      </script>\n",
              "    </div>\n",
              "  </div>\n",
              "  "
            ]
          },
          "metadata": {},
          "execution_count": 167
        }
      ]
    },
    {
      "cell_type": "markdown",
      "source": [
        "Поменяем тип данных в столбце `event_date`."
      ],
      "metadata": {
        "id": "iQYyWIERjjrS"
      }
    },
    {
      "cell_type": "code",
      "source": [
        "df['event_date'] = pd.to_datetime(df['event_date'], format='%Y-%m-%d %H:%M:%S')\n",
        "df['user_id'].isna().sum()"
      ],
      "metadata": {
        "id": "KW7RmfJTu3tm",
        "colab": {
          "base_uri": "https://localhost:8080/"
        },
        "outputId": "e6244a11-de12-462f-bf8f-b3e19ca38f6a"
      },
      "execution_count": 168,
      "outputs": [
        {
          "output_type": "execute_result",
          "data": {
            "text/plain": [
              "19483"
            ]
          },
          "metadata": {},
          "execution_count": 168
        }
      ]
    },
    {
      "cell_type": "markdown",
      "source": [
        "Заполним пропуски"
      ],
      "metadata": {
        "id": "HNHo2kgIp7hO"
      }
    },
    {
      "cell_type": "code",
      "source": [
        "df['user_id'] = df['user_id'].fillna(-1).astype('int')\n",
        "df['event_id_3'] = df['event_id_3'].fillna(-1)\n",
        "df['event_id_4'] = df['event_id_4'].fillna(-1)\n",
        "df['event_id_5'] = df['event_id_5'].fillna(-1)\n",
        "df['event_id_6'] = df['event_id_6'].fillna(-1)\n",
        "df['event_id_7'] = df['event_id_7'].fillna(-1)\n",
        "df['event_id_8'] = df['event_id_8'].fillna(-1)\n",
        "df['event_id_9'] = df['event_id_9'].fillna(-1)"
      ],
      "metadata": {
        "id": "wk8u2GknwHQZ"
      },
      "execution_count": 169,
      "outputs": []
    },
    {
      "cell_type": "markdown",
      "source": [
        "# **Количество уникальных игроков.**"
      ],
      "metadata": {
        "id": "FXaEJBUiqWhe"
      }
    },
    {
      "cell_type": "code",
      "source": [
        "df['user_id'].nunique()-1"
      ],
      "metadata": {
        "colab": {
          "base_uri": "https://localhost:8080/"
        },
        "id": "UVusHtG-qPYa",
        "outputId": "0d251068-1d27-42f3-b8eb-5a4a633e357b"
      },
      "execution_count": 170,
      "outputs": [
        {
          "output_type": "execute_result",
          "data": {
            "text/plain": [
              "628"
            ]
          },
          "metadata": {},
          "execution_count": 170
        }
      ]
    },
    {
      "cell_type": "markdown",
      "source": [
        "Количество уникальных игроков 628 человек."
      ],
      "metadata": {
        "id": "gRy-WAoTNOrt"
      }
    },
    {
      "cell_type": "code",
      "source": [
        "df[df['event_id_2'] == 'session']['user_id'].nunique()"
      ],
      "metadata": {
        "colab": {
          "base_uri": "https://localhost:8080/"
        },
        "id": "N0xO5Xr54xCl",
        "outputId": "334ab7b9-8641-46ab-dd79-86690e83e00e"
      },
      "execution_count": 171,
      "outputs": [
        {
          "output_type": "execute_result",
          "data": {
            "text/plain": [
              "228"
            ]
          },
          "metadata": {},
          "execution_count": 171
        }
      ]
    },
    {
      "cell_type": "markdown",
      "source": [
        "\n",
        "Количество уникальных игроков, которые начинали сеcсию 228 человек."
      ],
      "metadata": {
        "id": "prfTonUTNUzl"
      }
    },
    {
      "cell_type": "markdown",
      "source": [
        "# **Средняя длина сессии и количество сессий каждого игрока**"
      ],
      "metadata": {
        "id": "BlnkOszlqlNk"
      }
    },
    {
      "cell_type": "code",
      "source": [
        "list = []\n",
        "for i in df['session_id'].unique():\n",
        "  a = df[df['session_id'] == i]['event_date'].min()\n",
        "  b = df[df['session_id'] == i]['event_date'].max()\n",
        "  list.append(b-a)\n",
        "series = pd.DataFrame(list).reset_index(drop=True)\n",
        "series_2 = pd.DataFrame(df['session_id'].unique()).reset_index(drop=True)\n",
        "sessions = series_2.join(series,\n",
        "on=series.index,\n",
        "how='left',\n",
        "lsuffix='_первый датафрейм',\n",
        "rsuffix='_второй датафрейм'\n",
        ")\n",
        "sessions.columns = ['session_id', 'duration_time']\n",
        "sessions.head()"
      ],
      "metadata": {
        "id": "tcY5hozSv4C8",
        "colab": {
          "base_uri": "https://localhost:8080/",
          "height": 206
        },
        "outputId": "2de80c28-1a8f-40d3-efa7-a0f223ff5a47"
      },
      "execution_count": 93,
      "outputs": [
        {
          "output_type": "execute_result",
          "data": {
            "text/plain": [
              "                             session_id   duration_time\n",
              "0  F9C68F64-55F8-4D11-8B7B-4DE660B34673 0 days 00:08:20\n",
              "1  DEA67743-A7A0-4C07-884E-1B72546C0B77 0 days 00:26:11\n",
              "2  99B561DA-6619-4D1D-BDFC-991C85C59EBD 0 days 00:08:15\n",
              "3  0CB400BA-CA3C-4E0D-9A6F-13DCDF7688DF 0 days 00:09:33\n",
              "4  05E4A887-3EDA-48AC-A7E8-DF5906334023 0 days 00:09:51"
            ],
            "text/html": [
              "\n",
              "  <div id=\"df-d8351194-c763-43dc-a9c6-b3d2af47fb6a\">\n",
              "    <div class=\"colab-df-container\">\n",
              "      <div>\n",
              "<style scoped>\n",
              "    .dataframe tbody tr th:only-of-type {\n",
              "        vertical-align: middle;\n",
              "    }\n",
              "\n",
              "    .dataframe tbody tr th {\n",
              "        vertical-align: top;\n",
              "    }\n",
              "\n",
              "    .dataframe thead th {\n",
              "        text-align: right;\n",
              "    }\n",
              "</style>\n",
              "<table border=\"1\" class=\"dataframe\">\n",
              "  <thead>\n",
              "    <tr style=\"text-align: right;\">\n",
              "      <th></th>\n",
              "      <th>session_id</th>\n",
              "      <th>duration_time</th>\n",
              "    </tr>\n",
              "  </thead>\n",
              "  <tbody>\n",
              "    <tr>\n",
              "      <th>0</th>\n",
              "      <td>F9C68F64-55F8-4D11-8B7B-4DE660B34673</td>\n",
              "      <td>0 days 00:08:20</td>\n",
              "    </tr>\n",
              "    <tr>\n",
              "      <th>1</th>\n",
              "      <td>DEA67743-A7A0-4C07-884E-1B72546C0B77</td>\n",
              "      <td>0 days 00:26:11</td>\n",
              "    </tr>\n",
              "    <tr>\n",
              "      <th>2</th>\n",
              "      <td>99B561DA-6619-4D1D-BDFC-991C85C59EBD</td>\n",
              "      <td>0 days 00:08:15</td>\n",
              "    </tr>\n",
              "    <tr>\n",
              "      <th>3</th>\n",
              "      <td>0CB400BA-CA3C-4E0D-9A6F-13DCDF7688DF</td>\n",
              "      <td>0 days 00:09:33</td>\n",
              "    </tr>\n",
              "    <tr>\n",
              "      <th>4</th>\n",
              "      <td>05E4A887-3EDA-48AC-A7E8-DF5906334023</td>\n",
              "      <td>0 days 00:09:51</td>\n",
              "    </tr>\n",
              "  </tbody>\n",
              "</table>\n",
              "</div>\n",
              "      <button class=\"colab-df-convert\" onclick=\"convertToInteractive('df-d8351194-c763-43dc-a9c6-b3d2af47fb6a')\"\n",
              "              title=\"Convert this dataframe to an interactive table.\"\n",
              "              style=\"display:none;\">\n",
              "        \n",
              "  <svg xmlns=\"http://www.w3.org/2000/svg\" height=\"24px\"viewBox=\"0 0 24 24\"\n",
              "       width=\"24px\">\n",
              "    <path d=\"M0 0h24v24H0V0z\" fill=\"none\"/>\n",
              "    <path d=\"M18.56 5.44l.94 2.06.94-2.06 2.06-.94-2.06-.94-.94-2.06-.94 2.06-2.06.94zm-11 1L8.5 8.5l.94-2.06 2.06-.94-2.06-.94L8.5 2.5l-.94 2.06-2.06.94zm10 10l.94 2.06.94-2.06 2.06-.94-2.06-.94-.94-2.06-.94 2.06-2.06.94z\"/><path d=\"M17.41 7.96l-1.37-1.37c-.4-.4-.92-.59-1.43-.59-.52 0-1.04.2-1.43.59L10.3 9.45l-7.72 7.72c-.78.78-.78 2.05 0 2.83L4 21.41c.39.39.9.59 1.41.59.51 0 1.02-.2 1.41-.59l7.78-7.78 2.81-2.81c.8-.78.8-2.07 0-2.86zM5.41 20L4 18.59l7.72-7.72 1.47 1.35L5.41 20z\"/>\n",
              "  </svg>\n",
              "      </button>\n",
              "      \n",
              "  <style>\n",
              "    .colab-df-container {\n",
              "      display:flex;\n",
              "      flex-wrap:wrap;\n",
              "      gap: 12px;\n",
              "    }\n",
              "\n",
              "    .colab-df-convert {\n",
              "      background-color: #E8F0FE;\n",
              "      border: none;\n",
              "      border-radius: 50%;\n",
              "      cursor: pointer;\n",
              "      display: none;\n",
              "      fill: #1967D2;\n",
              "      height: 32px;\n",
              "      padding: 0 0 0 0;\n",
              "      width: 32px;\n",
              "    }\n",
              "\n",
              "    .colab-df-convert:hover {\n",
              "      background-color: #E2EBFA;\n",
              "      box-shadow: 0px 1px 2px rgba(60, 64, 67, 0.3), 0px 1px 3px 1px rgba(60, 64, 67, 0.15);\n",
              "      fill: #174EA6;\n",
              "    }\n",
              "\n",
              "    [theme=dark] .colab-df-convert {\n",
              "      background-color: #3B4455;\n",
              "      fill: #D2E3FC;\n",
              "    }\n",
              "\n",
              "    [theme=dark] .colab-df-convert:hover {\n",
              "      background-color: #434B5C;\n",
              "      box-shadow: 0px 1px 3px 1px rgba(0, 0, 0, 0.15);\n",
              "      filter: drop-shadow(0px 1px 2px rgba(0, 0, 0, 0.3));\n",
              "      fill: #FFFFFF;\n",
              "    }\n",
              "  </style>\n",
              "\n",
              "      <script>\n",
              "        const buttonEl =\n",
              "          document.querySelector('#df-d8351194-c763-43dc-a9c6-b3d2af47fb6a button.colab-df-convert');\n",
              "        buttonEl.style.display =\n",
              "          google.colab.kernel.accessAllowed ? 'block' : 'none';\n",
              "\n",
              "        async function convertToInteractive(key) {\n",
              "          const element = document.querySelector('#df-d8351194-c763-43dc-a9c6-b3d2af47fb6a');\n",
              "          const dataTable =\n",
              "            await google.colab.kernel.invokeFunction('convertToInteractive',\n",
              "                                                     [key], {});\n",
              "          if (!dataTable) return;\n",
              "\n",
              "          const docLinkHtml = 'Like what you see? Visit the ' +\n",
              "            '<a target=\"_blank\" href=https://colab.research.google.com/notebooks/data_table.ipynb>data table notebook</a>'\n",
              "            + ' to learn more about interactive tables.';\n",
              "          element.innerHTML = '';\n",
              "          dataTable['output_type'] = 'display_data';\n",
              "          await google.colab.output.renderOutput(dataTable, element);\n",
              "          const docLink = document.createElement('div');\n",
              "          docLink.innerHTML = docLinkHtml;\n",
              "          element.appendChild(docLink);\n",
              "        }\n",
              "      </script>\n",
              "    </div>\n",
              "  </div>\n",
              "  "
            ]
          },
          "metadata": {},
          "execution_count": 93
        }
      ]
    },
    {
      "cell_type": "code",
      "source": [
        "sessions['duration_time'].describe()"
      ],
      "metadata": {
        "colab": {
          "base_uri": "https://localhost:8080/"
        },
        "id": "zBMcuru15QQe",
        "outputId": "72155a19-fcab-4684-a4f8-1332a63844bd"
      },
      "execution_count": 94,
      "outputs": [
        {
          "output_type": "execute_result",
          "data": {
            "text/plain": [
              "count                         1849\n",
              "mean     0 days 00:15:49.503515413\n",
              "std      0 days 00:44:40.932576870\n",
              "min                0 days 00:00:00\n",
              "25%                0 days 00:01:21\n",
              "50%                0 days 00:06:50\n",
              "75%                0 days 00:15:54\n",
              "max                0 days 16:36:35\n",
              "Name: duration_time, dtype: object"
            ]
          },
          "metadata": {},
          "execution_count": 94
        }
      ]
    },
    {
      "cell_type": "markdown",
      "source": [
        "Если считать, что id сессии присваивается в любом случае при том, что сессия есть, то среднее время сессии равняется 15 минут 49 секунд."
      ],
      "metadata": {
        "id": "8ILbRNAUOjVG"
      }
    },
    {
      "cell_type": "code",
      "source": [
        "sessions = pd.merge(df, sessions, on='session_id', how='left')\n",
        "sessions.sort_values(by='duration_time')['duration_time']"
      ],
      "metadata": {
        "id": "utdXN2Y5Yv9N",
        "colab": {
          "base_uri": "https://localhost:8080/"
        },
        "outputId": "cc051742-9631-4c02-ef90-3192c01dec83"
      },
      "execution_count": 95,
      "outputs": [
        {
          "output_type": "execute_result",
          "data": {
            "text/plain": [
              "16354   0 days 00:00:00\n",
              "4908    0 days 00:00:00\n",
              "16298   0 days 00:00:00\n",
              "16297   0 days 00:00:00\n",
              "4956    0 days 00:00:00\n",
              "              ...      \n",
              "23773   0 days 15:33:38\n",
              "9606    0 days 15:33:38\n",
              "25733   0 days 16:36:35\n",
              "15714   0 days 16:36:35\n",
              "15715   0 days 16:36:35\n",
              "Name: duration_time, Length: 25839, dtype: timedelta64[ns]"
            ]
          },
          "metadata": {},
          "execution_count": 95
        }
      ]
    },
    {
      "cell_type": "code",
      "source": [
        "sessions[(sessions['duration_time'] > '0 days 00:00:00') & (sessions['event_id_2'] == 'session')].describe()"
      ],
      "metadata": {
        "colab": {
          "base_uri": "https://localhost:8080/",
          "height": 300
        },
        "id": "a5c_XumeGFbx",
        "outputId": "37e09863-200d-426c-c412-c1e3001b6f79"
      },
      "execution_count": 96,
      "outputs": [
        {
          "output_type": "execute_result",
          "data": {
            "text/plain": [
              "             user_id  value_0  value_1  value_2              duration_time\n",
              "count     359.000000    359.0    359.0    359.0                        359\n",
              "mean   212206.740947      0.0      0.0      0.0  0 days 00:41:01.899721448\n",
              "std     48337.295316      0.0      0.0      0.0  0 days 01:12:15.589476326\n",
              "min    100254.000000      0.0      0.0      0.0            0 days 00:00:03\n",
              "25%    190264.500000      0.0      0.0      0.0     0 days 00:05:26.500000\n",
              "50%    236271.000000      0.0      0.0      0.0            0 days 00:21:49\n",
              "75%    251305.000000      0.0      0.0      0.0            0 days 00:50:59\n",
              "max    251666.000000      0.0      0.0      0.0            0 days 15:33:38"
            ],
            "text/html": [
              "\n",
              "  <div id=\"df-ea64f9cc-6e7a-4dd0-99c5-566cce1f4157\">\n",
              "    <div class=\"colab-df-container\">\n",
              "      <div>\n",
              "<style scoped>\n",
              "    .dataframe tbody tr th:only-of-type {\n",
              "        vertical-align: middle;\n",
              "    }\n",
              "\n",
              "    .dataframe tbody tr th {\n",
              "        vertical-align: top;\n",
              "    }\n",
              "\n",
              "    .dataframe thead th {\n",
              "        text-align: right;\n",
              "    }\n",
              "</style>\n",
              "<table border=\"1\" class=\"dataframe\">\n",
              "  <thead>\n",
              "    <tr style=\"text-align: right;\">\n",
              "      <th></th>\n",
              "      <th>user_id</th>\n",
              "      <th>value_0</th>\n",
              "      <th>value_1</th>\n",
              "      <th>value_2</th>\n",
              "      <th>duration_time</th>\n",
              "    </tr>\n",
              "  </thead>\n",
              "  <tbody>\n",
              "    <tr>\n",
              "      <th>count</th>\n",
              "      <td>359.000000</td>\n",
              "      <td>359.0</td>\n",
              "      <td>359.0</td>\n",
              "      <td>359.0</td>\n",
              "      <td>359</td>\n",
              "    </tr>\n",
              "    <tr>\n",
              "      <th>mean</th>\n",
              "      <td>212206.740947</td>\n",
              "      <td>0.0</td>\n",
              "      <td>0.0</td>\n",
              "      <td>0.0</td>\n",
              "      <td>0 days 00:41:01.899721448</td>\n",
              "    </tr>\n",
              "    <tr>\n",
              "      <th>std</th>\n",
              "      <td>48337.295316</td>\n",
              "      <td>0.0</td>\n",
              "      <td>0.0</td>\n",
              "      <td>0.0</td>\n",
              "      <td>0 days 01:12:15.589476326</td>\n",
              "    </tr>\n",
              "    <tr>\n",
              "      <th>min</th>\n",
              "      <td>100254.000000</td>\n",
              "      <td>0.0</td>\n",
              "      <td>0.0</td>\n",
              "      <td>0.0</td>\n",
              "      <td>0 days 00:00:03</td>\n",
              "    </tr>\n",
              "    <tr>\n",
              "      <th>25%</th>\n",
              "      <td>190264.500000</td>\n",
              "      <td>0.0</td>\n",
              "      <td>0.0</td>\n",
              "      <td>0.0</td>\n",
              "      <td>0 days 00:05:26.500000</td>\n",
              "    </tr>\n",
              "    <tr>\n",
              "      <th>50%</th>\n",
              "      <td>236271.000000</td>\n",
              "      <td>0.0</td>\n",
              "      <td>0.0</td>\n",
              "      <td>0.0</td>\n",
              "      <td>0 days 00:21:49</td>\n",
              "    </tr>\n",
              "    <tr>\n",
              "      <th>75%</th>\n",
              "      <td>251305.000000</td>\n",
              "      <td>0.0</td>\n",
              "      <td>0.0</td>\n",
              "      <td>0.0</td>\n",
              "      <td>0 days 00:50:59</td>\n",
              "    </tr>\n",
              "    <tr>\n",
              "      <th>max</th>\n",
              "      <td>251666.000000</td>\n",
              "      <td>0.0</td>\n",
              "      <td>0.0</td>\n",
              "      <td>0.0</td>\n",
              "      <td>0 days 15:33:38</td>\n",
              "    </tr>\n",
              "  </tbody>\n",
              "</table>\n",
              "</div>\n",
              "      <button class=\"colab-df-convert\" onclick=\"convertToInteractive('df-ea64f9cc-6e7a-4dd0-99c5-566cce1f4157')\"\n",
              "              title=\"Convert this dataframe to an interactive table.\"\n",
              "              style=\"display:none;\">\n",
              "        \n",
              "  <svg xmlns=\"http://www.w3.org/2000/svg\" height=\"24px\"viewBox=\"0 0 24 24\"\n",
              "       width=\"24px\">\n",
              "    <path d=\"M0 0h24v24H0V0z\" fill=\"none\"/>\n",
              "    <path d=\"M18.56 5.44l.94 2.06.94-2.06 2.06-.94-2.06-.94-.94-2.06-.94 2.06-2.06.94zm-11 1L8.5 8.5l.94-2.06 2.06-.94-2.06-.94L8.5 2.5l-.94 2.06-2.06.94zm10 10l.94 2.06.94-2.06 2.06-.94-2.06-.94-.94-2.06-.94 2.06-2.06.94z\"/><path d=\"M17.41 7.96l-1.37-1.37c-.4-.4-.92-.59-1.43-.59-.52 0-1.04.2-1.43.59L10.3 9.45l-7.72 7.72c-.78.78-.78 2.05 0 2.83L4 21.41c.39.39.9.59 1.41.59.51 0 1.02-.2 1.41-.59l7.78-7.78 2.81-2.81c.8-.78.8-2.07 0-2.86zM5.41 20L4 18.59l7.72-7.72 1.47 1.35L5.41 20z\"/>\n",
              "  </svg>\n",
              "      </button>\n",
              "      \n",
              "  <style>\n",
              "    .colab-df-container {\n",
              "      display:flex;\n",
              "      flex-wrap:wrap;\n",
              "      gap: 12px;\n",
              "    }\n",
              "\n",
              "    .colab-df-convert {\n",
              "      background-color: #E8F0FE;\n",
              "      border: none;\n",
              "      border-radius: 50%;\n",
              "      cursor: pointer;\n",
              "      display: none;\n",
              "      fill: #1967D2;\n",
              "      height: 32px;\n",
              "      padding: 0 0 0 0;\n",
              "      width: 32px;\n",
              "    }\n",
              "\n",
              "    .colab-df-convert:hover {\n",
              "      background-color: #E2EBFA;\n",
              "      box-shadow: 0px 1px 2px rgba(60, 64, 67, 0.3), 0px 1px 3px 1px rgba(60, 64, 67, 0.15);\n",
              "      fill: #174EA6;\n",
              "    }\n",
              "\n",
              "    [theme=dark] .colab-df-convert {\n",
              "      background-color: #3B4455;\n",
              "      fill: #D2E3FC;\n",
              "    }\n",
              "\n",
              "    [theme=dark] .colab-df-convert:hover {\n",
              "      background-color: #434B5C;\n",
              "      box-shadow: 0px 1px 3px 1px rgba(0, 0, 0, 0.15);\n",
              "      filter: drop-shadow(0px 1px 2px rgba(0, 0, 0, 0.3));\n",
              "      fill: #FFFFFF;\n",
              "    }\n",
              "  </style>\n",
              "\n",
              "      <script>\n",
              "        const buttonEl =\n",
              "          document.querySelector('#df-ea64f9cc-6e7a-4dd0-99c5-566cce1f4157 button.colab-df-convert');\n",
              "        buttonEl.style.display =\n",
              "          google.colab.kernel.accessAllowed ? 'block' : 'none';\n",
              "\n",
              "        async function convertToInteractive(key) {\n",
              "          const element = document.querySelector('#df-ea64f9cc-6e7a-4dd0-99c5-566cce1f4157');\n",
              "          const dataTable =\n",
              "            await google.colab.kernel.invokeFunction('convertToInteractive',\n",
              "                                                     [key], {});\n",
              "          if (!dataTable) return;\n",
              "\n",
              "          const docLinkHtml = 'Like what you see? Visit the ' +\n",
              "            '<a target=\"_blank\" href=https://colab.research.google.com/notebooks/data_table.ipynb>data table notebook</a>'\n",
              "            + ' to learn more about interactive tables.';\n",
              "          element.innerHTML = '';\n",
              "          dataTable['output_type'] = 'display_data';\n",
              "          await google.colab.output.renderOutput(dataTable, element);\n",
              "          const docLink = document.createElement('div');\n",
              "          docLink.innerHTML = docLinkHtml;\n",
              "          element.appendChild(docLink);\n",
              "        }\n",
              "      </script>\n",
              "    </div>\n",
              "  </div>\n",
              "  "
            ]
          },
          "metadata": {},
          "execution_count": 96
        }
      ]
    },
    {
      "cell_type": "markdown",
      "source": [
        "Средняя продолжительность сессии равняется 41 минуте, в то время как медианное значение равно 21 минута. Соответвенно, можно сделать вывод, что большинство игроков тратят времени на сессию в районе 20 минут, а некоторые игроки увеличивают средную продолжительность сессии за счет очень длинных сессий. Данные учитвают начало сессии с маркером event_2 = 'session'. "
      ],
      "metadata": {
        "id": "t8AgtOx4p4rN"
      }
    },
    {
      "cell_type": "code",
      "source": [
        "count_sessions = df.groupby('user_id')['session_id'].count()"
      ],
      "metadata": {
        "id": "8HrGID9cp4Fa"
      },
      "execution_count": 97,
      "outputs": []
    },
    {
      "cell_type": "code",
      "source": [
        "count_sessions = pd.DataFrame(count_sessions)"
      ],
      "metadata": {
        "id": "pjMFQQDouM9m"
      },
      "execution_count": 98,
      "outputs": []
    },
    {
      "cell_type": "markdown",
      "source": [
        "Количество сессий по столбцу `user_id`, маркер -1 говорит о том, что `user_id` не указан, поэтому мы не можем идентифицировать игрока."
      ],
      "metadata": {
        "id": "5gvNFsLhKGRR"
      }
    },
    {
      "cell_type": "code",
      "source": [
        "count_sessions.sort_values(by='session_id', ascending=False)"
      ],
      "metadata": {
        "colab": {
          "base_uri": "https://localhost:8080/",
          "height": 455
        },
        "id": "OKE_MsD9YBld",
        "outputId": "6bb13aba-5de1-4d63-f08d-d093534436bb"
      },
      "execution_count": 99,
      "outputs": [
        {
          "output_type": "execute_result",
          "data": {
            "text/plain": [
              "         session_id\n",
              "user_id            \n",
              "-1            19483\n",
              " 116074          88\n",
              " 193904          87\n",
              " 176183          86\n",
              " 100646          84\n",
              "...             ...\n",
              " 250801           1\n",
              " 250754           1\n",
              " 250709           1\n",
              " 216088           1\n",
              " 116855           1\n",
              "\n",
              "[629 rows x 1 columns]"
            ],
            "text/html": [
              "\n",
              "  <div id=\"df-a2ccd45e-8331-4004-bb4e-60980530441c\">\n",
              "    <div class=\"colab-df-container\">\n",
              "      <div>\n",
              "<style scoped>\n",
              "    .dataframe tbody tr th:only-of-type {\n",
              "        vertical-align: middle;\n",
              "    }\n",
              "\n",
              "    .dataframe tbody tr th {\n",
              "        vertical-align: top;\n",
              "    }\n",
              "\n",
              "    .dataframe thead th {\n",
              "        text-align: right;\n",
              "    }\n",
              "</style>\n",
              "<table border=\"1\" class=\"dataframe\">\n",
              "  <thead>\n",
              "    <tr style=\"text-align: right;\">\n",
              "      <th></th>\n",
              "      <th>session_id</th>\n",
              "    </tr>\n",
              "    <tr>\n",
              "      <th>user_id</th>\n",
              "      <th></th>\n",
              "    </tr>\n",
              "  </thead>\n",
              "  <tbody>\n",
              "    <tr>\n",
              "      <th>-1</th>\n",
              "      <td>19483</td>\n",
              "    </tr>\n",
              "    <tr>\n",
              "      <th>116074</th>\n",
              "      <td>88</td>\n",
              "    </tr>\n",
              "    <tr>\n",
              "      <th>193904</th>\n",
              "      <td>87</td>\n",
              "    </tr>\n",
              "    <tr>\n",
              "      <th>176183</th>\n",
              "      <td>86</td>\n",
              "    </tr>\n",
              "    <tr>\n",
              "      <th>100646</th>\n",
              "      <td>84</td>\n",
              "    </tr>\n",
              "    <tr>\n",
              "      <th>...</th>\n",
              "      <td>...</td>\n",
              "    </tr>\n",
              "    <tr>\n",
              "      <th>250801</th>\n",
              "      <td>1</td>\n",
              "    </tr>\n",
              "    <tr>\n",
              "      <th>250754</th>\n",
              "      <td>1</td>\n",
              "    </tr>\n",
              "    <tr>\n",
              "      <th>250709</th>\n",
              "      <td>1</td>\n",
              "    </tr>\n",
              "    <tr>\n",
              "      <th>216088</th>\n",
              "      <td>1</td>\n",
              "    </tr>\n",
              "    <tr>\n",
              "      <th>116855</th>\n",
              "      <td>1</td>\n",
              "    </tr>\n",
              "  </tbody>\n",
              "</table>\n",
              "<p>629 rows × 1 columns</p>\n",
              "</div>\n",
              "      <button class=\"colab-df-convert\" onclick=\"convertToInteractive('df-a2ccd45e-8331-4004-bb4e-60980530441c')\"\n",
              "              title=\"Convert this dataframe to an interactive table.\"\n",
              "              style=\"display:none;\">\n",
              "        \n",
              "  <svg xmlns=\"http://www.w3.org/2000/svg\" height=\"24px\"viewBox=\"0 0 24 24\"\n",
              "       width=\"24px\">\n",
              "    <path d=\"M0 0h24v24H0V0z\" fill=\"none\"/>\n",
              "    <path d=\"M18.56 5.44l.94 2.06.94-2.06 2.06-.94-2.06-.94-.94-2.06-.94 2.06-2.06.94zm-11 1L8.5 8.5l.94-2.06 2.06-.94-2.06-.94L8.5 2.5l-.94 2.06-2.06.94zm10 10l.94 2.06.94-2.06 2.06-.94-2.06-.94-.94-2.06-.94 2.06-2.06.94z\"/><path d=\"M17.41 7.96l-1.37-1.37c-.4-.4-.92-.59-1.43-.59-.52 0-1.04.2-1.43.59L10.3 9.45l-7.72 7.72c-.78.78-.78 2.05 0 2.83L4 21.41c.39.39.9.59 1.41.59.51 0 1.02-.2 1.41-.59l7.78-7.78 2.81-2.81c.8-.78.8-2.07 0-2.86zM5.41 20L4 18.59l7.72-7.72 1.47 1.35L5.41 20z\"/>\n",
              "  </svg>\n",
              "      </button>\n",
              "      \n",
              "  <style>\n",
              "    .colab-df-container {\n",
              "      display:flex;\n",
              "      flex-wrap:wrap;\n",
              "      gap: 12px;\n",
              "    }\n",
              "\n",
              "    .colab-df-convert {\n",
              "      background-color: #E8F0FE;\n",
              "      border: none;\n",
              "      border-radius: 50%;\n",
              "      cursor: pointer;\n",
              "      display: none;\n",
              "      fill: #1967D2;\n",
              "      height: 32px;\n",
              "      padding: 0 0 0 0;\n",
              "      width: 32px;\n",
              "    }\n",
              "\n",
              "    .colab-df-convert:hover {\n",
              "      background-color: #E2EBFA;\n",
              "      box-shadow: 0px 1px 2px rgba(60, 64, 67, 0.3), 0px 1px 3px 1px rgba(60, 64, 67, 0.15);\n",
              "      fill: #174EA6;\n",
              "    }\n",
              "\n",
              "    [theme=dark] .colab-df-convert {\n",
              "      background-color: #3B4455;\n",
              "      fill: #D2E3FC;\n",
              "    }\n",
              "\n",
              "    [theme=dark] .colab-df-convert:hover {\n",
              "      background-color: #434B5C;\n",
              "      box-shadow: 0px 1px 3px 1px rgba(0, 0, 0, 0.15);\n",
              "      filter: drop-shadow(0px 1px 2px rgba(0, 0, 0, 0.3));\n",
              "      fill: #FFFFFF;\n",
              "    }\n",
              "  </style>\n",
              "\n",
              "      <script>\n",
              "        const buttonEl =\n",
              "          document.querySelector('#df-a2ccd45e-8331-4004-bb4e-60980530441c button.colab-df-convert');\n",
              "        buttonEl.style.display =\n",
              "          google.colab.kernel.accessAllowed ? 'block' : 'none';\n",
              "\n",
              "        async function convertToInteractive(key) {\n",
              "          const element = document.querySelector('#df-a2ccd45e-8331-4004-bb4e-60980530441c');\n",
              "          const dataTable =\n",
              "            await google.colab.kernel.invokeFunction('convertToInteractive',\n",
              "                                                     [key], {});\n",
              "          if (!dataTable) return;\n",
              "\n",
              "          const docLinkHtml = 'Like what you see? Visit the ' +\n",
              "            '<a target=\"_blank\" href=https://colab.research.google.com/notebooks/data_table.ipynb>data table notebook</a>'\n",
              "            + ' to learn more about interactive tables.';\n",
              "          element.innerHTML = '';\n",
              "          dataTable['output_type'] = 'display_data';\n",
              "          await google.colab.output.renderOutput(dataTable, element);\n",
              "          const docLink = document.createElement('div');\n",
              "          docLink.innerHTML = docLinkHtml;\n",
              "          element.appendChild(docLink);\n",
              "        }\n",
              "      </script>\n",
              "    </div>\n",
              "  </div>\n",
              "  "
            ]
          },
          "metadata": {},
          "execution_count": 99
        }
      ]
    },
    {
      "cell_type": "code",
      "source": [
        "plt.hist(count_sessions, bins=range(1, 21))\n",
        "plt.xlabel('Количество сессий')\n",
        "plt.ylabel('Количество игроков')\n",
        "plt.title('Количество сессий каждого игрока')\n",
        "plt.show()"
      ],
      "metadata": {
        "colab": {
          "base_uri": "https://localhost:8080/",
          "height": 480
        },
        "id": "dkmS1hfTQT66",
        "outputId": "9d6cc014-1a18-4503-8af9-4cf6103606d7"
      },
      "execution_count": 100,
      "outputs": [
        {
          "output_type": "display_data",
          "data": {
            "text/plain": [
              "<Figure size 640x480 with 1 Axes>"
            ],
            "image/png": "[encoded data removed]"
          },
          "metadata": {}
        }
      ]
    },
    {
      "cell_type": "code",
      "source": [
        "count_sessions.value_counts()"
      ],
      "metadata": {
        "colab": {
          "base_uri": "https://localhost:8080/"
        },
        "id": "xZlBguLBY6_N",
        "outputId": "2197c87e-0a25-4e8f-f218-6ce7d3ac6919"
      },
      "execution_count": 101,
      "outputs": [
        {
          "output_type": "execute_result",
          "data": {
            "text/plain": [
              "session_id\n",
              "2             117\n",
              "4              70\n",
              "6              50\n",
              "3              40\n",
              "1              39\n",
              "7              33\n",
              "8              29\n",
              "5              25\n",
              "10             23\n",
              "12             19\n",
              "9              19\n",
              "11             15\n",
              "13             12\n",
              "14             12\n",
              "15             11\n",
              "17              9\n",
              "21              9\n",
              "19              8\n",
              "18              7\n",
              "22              6\n",
              "23              6\n",
              "25              6\n",
              "20              5\n",
              "16              5\n",
              "31              5\n",
              "30              4\n",
              "24              3\n",
              "48              3\n",
              "41              2\n",
              "61              2\n",
              "59              2\n",
              "46              2\n",
              "45              2\n",
              "44              2\n",
              "43              2\n",
              "29              2\n",
              "32              2\n",
              "26              2\n",
              "27              2\n",
              "39              1\n",
              "57              1\n",
              "88              1\n",
              "87              1\n",
              "86              1\n",
              "84              1\n",
              "68              1\n",
              "56              1\n",
              "37              1\n",
              "55              1\n",
              "54              1\n",
              "51              1\n",
              "28              1\n",
              "34              1\n",
              "35              1\n",
              "36              1\n",
              "19483           1\n",
              "dtype: int64"
            ]
          },
          "metadata": {},
          "execution_count": 101
        }
      ]
    },
    {
      "cell_type": "code",
      "source": [
        "count_sessions[count_sessions.index > 0].mean()"
      ],
      "metadata": {
        "colab": {
          "base_uri": "https://localhost:8080/"
        },
        "id": "sEk0SneKumLr",
        "outputId": "e7560ed6-770a-4036-80ae-d58ddb20078c"
      },
      "execution_count": 102,
      "outputs": [
        {
          "output_type": "execute_result",
          "data": {
            "text/plain": [
              "session_id    10.121019\n",
              "dtype: float64"
            ]
          },
          "metadata": {},
          "execution_count": 102
        }
      ]
    },
    {
      "cell_type": "markdown",
      "source": [
        "Видим, что большинство людей проводят до 10 сессий. Среденее количесвто сессий равняется 10."
      ],
      "metadata": {
        "id": "qxSCuZNKZHoS"
      }
    },
    {
      "cell_type": "markdown",
      "source": [
        "#  Популярность скинов во всех слотах"
      ],
      "metadata": {
        "id": "8UkwkFAZKfEh"
      }
    },
    {
      "cell_type": "code",
      "source": [
        "def skins(event, title):\n",
        "  x = df[(df['event_id_2'] == 'skin_main') & (df[event] != -1)]\n",
        "  x = x.groupby(event)[event].count().sort_values()\n",
        "  x.plot(figsize=(5,3))\n",
        "  plt.xlabel('Event ID')\n",
        "  plt.ylabel('Count')\n",
        "  plt.title(f'{title} skin main')\n",
        "  plt.show()\n",
        "  print(x)\n",
        "  y = df[df['event_id_2'] == 'skin_social']\n",
        "  y = y.groupby(event)[event].count().sort_values()\n",
        "  y.plot(figsize=(5,3))\n",
        "  plt.xlabel('Event ID')\n",
        "  plt.ylabel('Count')\n",
        "  plt.title(f'{title} skin social')\n",
        "  plt.show()\n",
        "  print(y)"
      ],
      "metadata": {
        "id": "xVMfp6QdZ0ae"
      },
      "execution_count": 113,
      "outputs": []
    },
    {
      "cell_type": "code",
      "source": [
        "skins('event_id_3', 'event id 3 data')"
      ],
      "metadata": {
        "colab": {
          "base_uri": "https://localhost:8080/",
          "height": 1000
        },
        "id": "0SBsIN4SapVS",
        "outputId": "c9eb50ea-32be-40c8-d2a9-09d4c710f7d6"
      },
      "execution_count": 114,
      "outputs": [
        {
          "output_type": "display_data",
          "data": {
            "text/plain": [
              "<Figure size 500x300 with 1 Axes>"
            ],
            "image/png": "[encoded data removed]"
          },
          "metadata": {}
        },
        {
          "output_type": "stream",
          "name": "stdout",
          "text": [
            "event_id_3\n",
            "1022     24\n",
            "1014     36\n",
            "1011     39\n",
            "1025     44\n",
            "1026     56\n",
            "1021     82\n",
            "1017     91\n",
            "1019    111\n",
            "1023    139\n",
            "1012    160\n",
            "1027    238\n",
            "1006    301\n",
            "1007    364\n",
            "1000    700\n",
            "Name: event_id_3, dtype: int64\n"
          ]
        },
        {
          "output_type": "display_data",
          "data": {
            "text/plain": [
              "<Figure size 500x300 with 1 Axes>"
            ],
            "image/png": "[encoded data removed]"
          },
          "metadata": {}
        },
        {
          "output_type": "stream",
          "name": "stdout",
          "text": [
            "event_id_3\n",
            "2001      22\n",
            "2012      31\n",
            "2009      41\n",
            "2011      41\n",
            "2003      51\n",
            "2004      59\n",
            "2008      61\n",
            "2002      68\n",
            "2014      86\n",
            "2013     104\n",
            "2010     118\n",
            "2007     134\n",
            "2015     420\n",
            "2000    1149\n",
            "Name: event_id_3, dtype: int64\n"
          ]
        }
      ]
    },
    {
      "cell_type": "markdown",
      "source": [
        "Видим, что в event_id 3 самые популярные id при skin_main 1000, а при skin_social 2000."
      ],
      "metadata": {
        "id": "ZY44JMRxbs2s"
      }
    },
    {
      "cell_type": "code",
      "source": [
        "skins('event_id_4', 'event id 4 data')"
      ],
      "metadata": {
        "colab": {
          "base_uri": "https://localhost:8080/",
          "height": 979
        },
        "id": "xB2_ifWhT9d9",
        "outputId": "6b725400-4ef3-4ac2-e5de-6e6465ca588d"
      },
      "execution_count": 115,
      "outputs": [
        {
          "output_type": "display_data",
          "data": {
            "text/plain": [
              "<Figure size 500x300 with 1 Axes>"
            ],
            "image/png": "[encoded data removed]"
          },
          "metadata": {}
        },
        {
          "output_type": "stream",
          "name": "stdout",
          "text": [
            "event_id_4\n",
            "7004      56\n",
            "7008      64\n",
            "7001      77\n",
            "7007      93\n",
            "7005     111\n",
            "7006     230\n",
            "7000    1754\n",
            "Name: event_id_4, dtype: int64\n"
          ]
        },
        {
          "output_type": "display_data",
          "data": {
            "text/plain": [
              "<Figure size 500x300 with 1 Axes>"
            ],
            "image/png": "[encoded data removed]"
          },
          "metadata": {}
        },
        {
          "output_type": "stream",
          "name": "stdout",
          "text": [
            "event_id_4\n",
            "3003     24\n",
            "3007    112\n",
            "3005    123\n",
            "3002    159\n",
            "3006    390\n",
            "3004    604\n",
            "0       973\n",
            "Name: event_id_4, dtype: int64\n"
          ]
        }
      ]
    },
    {
      "cell_type": "markdown",
      "source": [
        "Самый популярный скин в event_id 4 при skin_main 7000, а при skin_social 0."
      ],
      "metadata": {
        "id": "JPJ2ia4Bqj86"
      }
    },
    {
      "cell_type": "code",
      "source": [
        "skins('event_id_5', 'event id 5 data')"
      ],
      "metadata": {
        "colab": {
          "base_uri": "https://localhost:8080/",
          "height": 962
        },
        "id": "UhXanzF9qsZ0",
        "outputId": "c64ac5e9-14ac-45ea-f4e4-f66b87e7e815"
      },
      "execution_count": 116,
      "outputs": [
        {
          "output_type": "display_data",
          "data": {
            "text/plain": [
              "<Figure size 500x300 with 1 Axes>"
            ],
            "image/png": "[encoded data removed]"
          },
          "metadata": {}
        },
        {
          "output_type": "stream",
          "name": "stdout",
          "text": [
            "event_id_5\n",
            "8002      22\n",
            "8001      60\n",
            "8005      73\n",
            "8006     185\n",
            "8003     194\n",
            "8007     476\n",
            "8000    1375\n",
            "Name: event_id_5, dtype: int64\n"
          ]
        },
        {
          "output_type": "display_data",
          "data": {
            "text/plain": [
              "<Figure size 500x300 with 1 Axes>"
            ],
            "image/png": "[encoded data removed]"
          },
          "metadata": {}
        },
        {
          "output_type": "stream",
          "name": "stdout",
          "text": [
            "event_id_5\n",
            "5003     116\n",
            "5001     135\n",
            "5005     160\n",
            "5004     243\n",
            "5002     685\n",
            "0       1046\n",
            "Name: event_id_5, dtype: int64\n"
          ]
        }
      ]
    },
    {
      "cell_type": "markdown",
      "source": [
        "Самый популярный скин в event_id 5 при skin_main 8000, а при skin_social 0."
      ],
      "metadata": {
        "id": "tiBAksFFqy3y"
      }
    },
    {
      "cell_type": "code",
      "source": [
        "skins('event_id_6', 'event id 6 data')"
      ],
      "metadata": {
        "colab": {
          "base_uri": "https://localhost:8080/",
          "height": 945
        },
        "id": "qVhwFkkMq2iU",
        "outputId": "8a3ab52e-73fa-4760-9cd8-275f61bdb0ff"
      },
      "execution_count": 117,
      "outputs": [
        {
          "output_type": "display_data",
          "data": {
            "text/plain": [
              "<Figure size 500x300 with 1 Axes>"
            ],
            "image/png": "[encoded data removed]"
          },
          "metadata": {}
        },
        {
          "output_type": "stream",
          "name": "stdout",
          "text": [
            "event_id_6\n",
            "9008      31\n",
            "9002      52\n",
            "9003      92\n",
            "9005     132\n",
            "9009     198\n",
            "9007     261\n",
            "9000    1619\n",
            "Name: event_id_6, dtype: int64\n"
          ]
        },
        {
          "output_type": "display_data",
          "data": {
            "text/plain": [
              "<Figure size 500x300 with 1 Axes>"
            ],
            "image/png": "[encoded data removed]"
          },
          "metadata": {}
        },
        {
          "output_type": "stream",
          "name": "stdout",
          "text": [
            "event_id_6\n",
            "4201     103\n",
            "4100     125\n",
            "4200     289\n",
            "4101     327\n",
            "4000    1541\n",
            "Name: event_id_6, dtype: int64\n"
          ]
        }
      ]
    },
    {
      "cell_type": "markdown",
      "source": [
        "Самый популярный скин в event_id 6 при skin_main 9000, а при skin_social 4000."
      ],
      "metadata": {
        "id": "AdJPY-3ZrR6y"
      }
    },
    {
      "cell_type": "code",
      "source": [
        "skins('event_id_7', 'event id 7 data')"
      ],
      "metadata": {
        "colab": {
          "base_uri": "https://localhost:8080/",
          "height": 1000
        },
        "id": "iixodlWWrU0V",
        "outputId": "156d2b05-287c-47fe-d2b4-eb0d6a5e3769"
      },
      "execution_count": 119,
      "outputs": [
        {
          "output_type": "display_data",
          "data": {
            "text/plain": [
              "<Figure size 500x300 with 1 Axes>"
            ],
            "image/png": "[encoded data removed]"
          },
          "metadata": {}
        },
        {
          "output_type": "stream",
          "name": "stdout",
          "text": [
            "event_id_7\n",
            "10004      43\n",
            "10001      69\n",
            "10003      82\n",
            "10005     215\n",
            "10002     230\n",
            "10000    1746\n",
            "Name: event_id_7, dtype: int64\n"
          ]
        },
        {
          "output_type": "display_data",
          "data": {
            "text/plain": [
              "<Figure size 500x300 with 1 Axes>"
            ],
            "image/png": "[encoded data removed]"
          },
          "metadata": {}
        },
        {
          "output_type": "stream",
          "name": "stdout",
          "text": [
            "event_id_7\n",
            "6004      19\n",
            "6008      29\n",
            "6011      35\n",
            "6005      47\n",
            "6003      53\n",
            "6002      61\n",
            "6010      81\n",
            "6012      96\n",
            "6009     118\n",
            "6006     229\n",
            "6007     285\n",
            "6000    1332\n",
            "Name: event_id_7, dtype: int64\n"
          ]
        }
      ]
    },
    {
      "cell_type": "markdown",
      "source": [
        "Самый популярный скин в event_id 7 при skin_main 10000, а при skin_social 6000."
      ],
      "metadata": {
        "id": "T2yOnJGNrZ3w"
      }
    },
    {
      "cell_type": "markdown",
      "source": [
        "# График почасового онлайна"
      ],
      "metadata": {
        "id": "G1R1XOksW4bt"
      }
    },
    {
      "cell_type": "code",
      "source": [
        "df['event_date'] = pd.to_datetime(df['event_date'])\n",
        "df['hour'] = df['event_date'].dt.hour\n",
        "hourly_online = df.groupby('hour').agg({'user_id': 'nunique'}).reset_index()\n",
        "\n",
        "sns.set_theme(style=\"whitegrid\")\n",
        "plt.figure(figsize=(10, 6))\n",
        "sns.barplot(x=\"hour\", y=\"user_id\", data=hourly_online)\n",
        "plt.title('Почасовой онлайн')\n",
        "plt.xlabel('Час')\n",
        "plt.ylabel('Количество игроков')\n",
        "plt.show()"
      ],
      "metadata": {
        "id": "yXjjTIujUfJr",
        "colab": {
          "base_uri": "https://localhost:8080/",
          "height": 573
        },
        "outputId": "a14d7456-db68-4109-b9f4-a6b9d76a380e"
      },
      "execution_count": null,
      "outputs": [
        {
          "output_type": "display_data",
          "data": {
            "text/plain": [
              "<Figure size 1000x600 with 1 Axes>"
            ],
            "image/png": "[encoded data removed]"
          },
          "metadata": {}
        }
      ]
    },
    {
      "cell_type": "markdown",
      "source": [
        "Количество игроков минимальное значение имеет в 7 утра, начиная с 14 часов идет сильный рост, затем уменьшение к утру."
      ],
      "metadata": {
        "id": "aGRIRF67ygMA"
      }
    },
    {
      "cell_type": "markdown",
      "source": [
        "# Cегментация по среднему времени игры и всем игровым режимам"
      ],
      "metadata": {
        "id": "cuHWe1pUduGE"
      }
    },
    {
      "cell_type": "code",
      "source": [
        "segmentation = sessions[(sessions['event_id_1'].isin(['horde', 'ctf', 'koth', 'dm', 'tdm'])) & (sessions['duration_time'] > '0 days 00:00:00')]"
      ],
      "metadata": {
        "id": "Bx3JpDgveN0T"
      },
      "execution_count": 139,
      "outputs": []
    },
    {
      "cell_type": "code",
      "source": [
        "segmentation['event_id_1'].unique()"
      ],
      "metadata": {
        "colab": {
          "base_uri": "https://localhost:8080/"
        },
        "id": "uOFhS9DPd_R7",
        "outputId": "ef3e3476-f67c-4cf8-d2ef-c4bcc60da747"
      },
      "execution_count": 145,
      "outputs": [
        {
          "output_type": "execute_result",
          "data": {
            "text/plain": [
              "array(['ctf', 'horde', 'dm', 'tdm', 'koth'], dtype=object)"
            ]
          },
          "metadata": {},
          "execution_count": 145
        }
      ]
    },
    {
      "cell_type": "code",
      "source": [
        "grouped = pd.DataFrame(segmentation.groupby('event_id_1')['duration_time'].mean())\n"
      ],
      "metadata": {
        "id": "oLNl0TQSUfR1"
      },
      "execution_count": 157,
      "outputs": []
    },
    {
      "cell_type": "code",
      "source": [
        "grouped['duration_time'] = grouped['duration_time'].apply(lambda x: x.total_seconds() / 60)"
      ],
      "metadata": {
        "id": "2L6eQKOKfyB9"
      },
      "execution_count": 158,
      "outputs": []
    },
    {
      "cell_type": "code",
      "source": [
        "grouped"
      ],
      "metadata": {
        "id": "0qIBq9ZkzH11",
        "outputId": "92ebaafb-d74b-4bc5-a8aa-57cca211895d",
        "colab": {
          "base_uri": "https://localhost:8080/",
          "height": 238
        }
      },
      "execution_count": 172,
      "outputs": [
        {
          "output_type": "execute_result",
          "data": {
            "text/plain": [
              "            duration_time       segment_time\n",
              "event_id_1                                  \n",
              "ctf             21.721242     более 20 минут\n",
              "dm              16.186242  от 15 до 20 минут\n",
              "horde           13.110312     менее 15 минут\n",
              "koth            15.766418  от 15 до 20 минут\n",
              "tdm             12.935976     менее 15 минут"
            ],
            "text/html": [
              "\n",
              "  <div id=\"df-65f959eb-611d-418a-a118-8726edc6076a\">\n",
              "    <div class=\"colab-df-container\">\n",
              "      <div>\n",
              "<style scoped>\n",
              "    .dataframe tbody tr th:only-of-type {\n",
              "        vertical-align: middle;\n",
              "    }\n",
              "\n",
              "    .dataframe tbody tr th {\n",
              "        vertical-align: top;\n",
              "    }\n",
              "\n",
              "    .dataframe thead th {\n",
              "        text-align: right;\n",
              "    }\n",
              "</style>\n",
              "<table border=\"1\" class=\"dataframe\">\n",
              "  <thead>\n",
              "    <tr style=\"text-align: right;\">\n",
              "      <th></th>\n",
              "      <th>duration_time</th>\n",
              "      <th>segment_time</th>\n",
              "    </tr>\n",
              "    <tr>\n",
              "      <th>event_id_1</th>\n",
              "      <th></th>\n",
              "      <th></th>\n",
              "    </tr>\n",
              "  </thead>\n",
              "  <tbody>\n",
              "    <tr>\n",
              "      <th>ctf</th>\n",
              "      <td>21.721242</td>\n",
              "      <td>более 20 минут</td>\n",
              "    </tr>\n",
              "    <tr>\n",
              "      <th>dm</th>\n",
              "      <td>16.186242</td>\n",
              "      <td>от 15 до 20 минут</td>\n",
              "    </tr>\n",
              "    <tr>\n",
              "      <th>horde</th>\n",
              "      <td>13.110312</td>\n",
              "      <td>менее 15 минут</td>\n",
              "    </tr>\n",
              "    <tr>\n",
              "      <th>koth</th>\n",
              "      <td>15.766418</td>\n",
              "      <td>от 15 до 20 минут</td>\n",
              "    </tr>\n",
              "    <tr>\n",
              "      <th>tdm</th>\n",
              "      <td>12.935976</td>\n",
              "      <td>менее 15 минут</td>\n",
              "    </tr>\n",
              "  </tbody>\n",
              "</table>\n",
              "</div>\n",
              "      <button class=\"colab-df-convert\" onclick=\"convertToInteractive('df-65f959eb-611d-418a-a118-8726edc6076a')\"\n",
              "              title=\"Convert this dataframe to an interactive table.\"\n",
              "              style=\"display:none;\">\n",
              "        \n",
              "  <svg xmlns=\"http://www.w3.org/2000/svg\" height=\"24px\"viewBox=\"0 0 24 24\"\n",
              "       width=\"24px\">\n",
              "    <path d=\"M0 0h24v24H0V0z\" fill=\"none\"/>\n",
              "    <path d=\"M18.56 5.44l.94 2.06.94-2.06 2.06-.94-2.06-.94-.94-2.06-.94 2.06-2.06.94zm-11 1L8.5 8.5l.94-2.06 2.06-.94-2.06-.94L8.5 2.5l-.94 2.06-2.06.94zm10 10l.94 2.06.94-2.06 2.06-.94-2.06-.94-.94-2.06-.94 2.06-2.06.94z\"/><path d=\"M17.41 7.96l-1.37-1.37c-.4-.4-.92-.59-1.43-.59-.52 0-1.04.2-1.43.59L10.3 9.45l-7.72 7.72c-.78.78-.78 2.05 0 2.83L4 21.41c.39.39.9.59 1.41.59.51 0 1.02-.2 1.41-.59l7.78-7.78 2.81-2.81c.8-.78.8-2.07 0-2.86zM5.41 20L4 18.59l7.72-7.72 1.47 1.35L5.41 20z\"/>\n",
              "  </svg>\n",
              "      </button>\n",
              "      \n",
              "  <style>\n",
              "    .colab-df-container {\n",
              "      display:flex;\n",
              "      flex-wrap:wrap;\n",
              "      gap: 12px;\n",
              "    }\n",
              "\n",
              "    .colab-df-convert {\n",
              "      background-color: #E8F0FE;\n",
              "      border: none;\n",
              "      border-radius: 50%;\n",
              "      cursor: pointer;\n",
              "      display: none;\n",
              "      fill: #1967D2;\n",
              "      height: 32px;\n",
              "      padding: 0 0 0 0;\n",
              "      width: 32px;\n",
              "    }\n",
              "\n",
              "    .colab-df-convert:hover {\n",
              "      background-color: #E2EBFA;\n",
              "      box-shadow: 0px 1px 2px rgba(60, 64, 67, 0.3), 0px 1px 3px 1px rgba(60, 64, 67, 0.15);\n",
              "      fill: #174EA6;\n",
              "    }\n",
              "\n",
              "    [theme=dark] .colab-df-convert {\n",
              "      background-color: #3B4455;\n",
              "      fill: #D2E3FC;\n",
              "    }\n",
              "\n",
              "    [theme=dark] .colab-df-convert:hover {\n",
              "      background-color: #434B5C;\n",
              "      box-shadow: 0px 1px 3px 1px rgba(0, 0, 0, 0.15);\n",
              "      filter: drop-shadow(0px 1px 2px rgba(0, 0, 0, 0.3));\n",
              "      fill: #FFFFFF;\n",
              "    }\n",
              "  </style>\n",
              "\n",
              "      <script>\n",
              "        const buttonEl =\n",
              "          document.querySelector('#df-65f959eb-611d-418a-a118-8726edc6076a button.colab-df-convert');\n",
              "        buttonEl.style.display =\n",
              "          google.colab.kernel.accessAllowed ? 'block' : 'none';\n",
              "\n",
              "        async function convertToInteractive(key) {\n",
              "          const element = document.querySelector('#df-65f959eb-611d-418a-a118-8726edc6076a');\n",
              "          const dataTable =\n",
              "            await google.colab.kernel.invokeFunction('convertToInteractive',\n",
              "                                                     [key], {});\n",
              "          if (!dataTable) return;\n",
              "\n",
              "          const docLinkHtml = 'Like what you see? Visit the ' +\n",
              "            '<a target=\"_blank\" href=https://colab.research.google.com/notebooks/data_table.ipynb>data table notebook</a>'\n",
              "            + ' to learn more about interactive tables.';\n",
              "          element.innerHTML = '';\n",
              "          dataTable['output_type'] = 'display_data';\n",
              "          await google.colab.output.renderOutput(dataTable, element);\n",
              "          const docLink = document.createElement('div');\n",
              "          docLink.innerHTML = docLinkHtml;\n",
              "          element.appendChild(docLink);\n",
              "        }\n",
              "      </script>\n",
              "    </div>\n",
              "  </div>\n",
              "  "
            ]
          },
          "metadata": {},
          "execution_count": 172
        }
      ]
    },
    {
      "cell_type": "code",
      "source": [
        "def segment(row):\n",
        "    if row['duration_time'] < 15:\n",
        "        return 'менее 15 минут'\n",
        "    elif row['duration_time'] < 20:\n",
        "        return 'от 15 до 20 минут'\n",
        "    else:\n",
        "        return 'более 20 минут'\n",
        "\n",
        "grouped['segment_time'] = grouped.apply(segment, axis=1)\n",
        "segment_counts = grouped['segment_time'].value_counts()\n",
        "plt.bar(segment_counts.index, segment_counts.values)\n",
        "plt.xlabel('Время игры')\n",
        "plt.ylabel('Количество игроков')\n",
        "plt.show()"
      ],
      "metadata": {
        "id": "GFekuIY7lq-c",
        "colab": {
          "base_uri": "https://localhost:8080/",
          "height": 459
        },
        "outputId": "911516bc-3fe5-4e2f-a95a-981358652978"
      },
      "execution_count": 162,
      "outputs": [
        {
          "output_type": "display_data",
          "data": {
            "text/plain": [
              "<Figure size 640x480 with 1 Axes>"
            ],
            "image/png": "[encoded data removed]"
          },
          "metadata": {}
        }
      ]
    }
  ]
}